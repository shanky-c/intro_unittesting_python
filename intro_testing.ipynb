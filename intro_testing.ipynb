{
  "nbformat": 4,
  "nbformat_minor": 0,
  "metadata": {
    "colab": {
      "name": "intro_testing.ipynb",
      "provenance": [],
      "authorship_tag": "ABX9TyO+/KovNI9kEsFdXbHSbjcV",
      "include_colab_link": true
    },
    "kernelspec": {
      "name": "python3",
      "display_name": "Python 3"
    },
    "language_info": {
      "name": "python"
    }
  },
  "cells": [
    {
      "cell_type": "markdown",
      "metadata": {
        "id": "view-in-github",
        "colab_type": "text"
      },
      "source": [
        "<a href=\"https://colab.research.google.com/github/shanky-c/intro_unittesting_python/blob/main/intro_testing.ipynb\" target=\"_parent\"><img src=\"https://colab.research.google.com/assets/colab-badge.svg\" alt=\"Open In Colab\"/></a>"
      ]
    },
    {
      "cell_type": "code",
      "execution_count": 1,
      "metadata": {
        "colab": {
          "base_uri": "https://localhost:8080/"
        },
        "id": "STl4zSTHbjrb",
        "outputId": "dd1830a2-7a92-4ce5-e6d3-48d9e2b70103"
      },
      "outputs": [
        {
          "output_type": "stream",
          "name": "stdout",
          "text": [
            "HEllo world\n"
          ]
        }
      ],
      "source": [
        "print('HEllo world')"
      ]
    },
    {
      "cell_type": "code",
      "source": [
        ""
      ],
      "metadata": {
        "id": "ILxCX9ZxdUdU"
      },
      "execution_count": null,
      "outputs": []
    }
  ]
}